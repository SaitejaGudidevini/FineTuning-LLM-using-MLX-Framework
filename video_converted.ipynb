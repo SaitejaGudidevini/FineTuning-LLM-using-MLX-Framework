{
 "cells": [
  {
   "cell_type": "markdown",
   "metadata": {},
   "source": [
    "Converting Video into a Dataset"
   ]
  },
  {
   "cell_type": "code",
   "execution_count": null,
   "metadata": {},
   "outputs": [],
   "source": [
    "#Installing necessary libraries for video processing\n",
    "!pip install moviepy opencv-python pandas numpy"
   ]
  },
  {
   "cell_type": "code",
   "execution_count": null,
   "metadata": {},
   "outputs": [],
   "source": [
    "!pip install moviepy==1.0.3"
   ]
  },
  {
   "cell_type": "code",
   "execution_count": 14,
   "metadata": {},
   "outputs": [],
   "source": [
    "import cv2\n",
    "import numpy as np\n",
    "import pandas as pd\n",
    "from moviepy import VideoFileClip\n",
    "import os"
   ]
  },
  {
   "cell_type": "code",
   "execution_count": 18,
   "metadata": {},
   "outputs": [],
   "source": [
    "video_path = \"/Users/MacBook/dev/TejaFiles/videoplayback.mp4\"\n",
    "output_folder = \"video_dataset\"\n",
    "os.makedirs(output_folder, exist_ok = True)\n",
    "\n",
    "\n"
   ]
  },
  {
   "cell_type": "code",
   "execution_count": 19,
   "metadata": {},
   "outputs": [
    {
     "name": "stdout",
     "output_type": "stream",
     "text": [
      "{'video_found': True, 'audio_found': True, 'metadata': {'major_brand': 'mp42', 'minor_version': '0', 'compatible_brands': 'isommp42', 'encoder': 'Google'}, 'inputs': [{'streams': [{'input_number': 0, 'stream_number': 0, 'stream_type': 'video', 'language': None, 'default': True, 'size': [640, 320], 'bitrate': 277, 'fps': 29.97002997002997, 'codec_name': 'h264', 'profile': '(Main)', 'metadata': {'Metadata': '', 'handler_name': 'ISO Media file produced by Google Inc.', 'vendor_id': '[0][0][0][0]'}}, {'input_number': 0, 'stream_number': 1, 'stream_type': 'audio', 'language': None, 'default': True, 'fps': 44100, 'bitrate': 96, 'metadata': {'Metadata': '', 'handler_name': 'ISO Media file produced by Google Inc.', 'vendor_id': '[0][0][0][0]'}}], 'input_number': 0}], 'duration': 879.48, 'bitrate': 375, 'start': 0.0, 'default_video_input_number': 0, 'default_video_stream_number': 0, 'video_codec_name': 'h264', 'video_profile': '(Main)', 'video_size': [640, 320], 'video_bitrate': 277, 'video_fps': 29.97002997002997, 'default_audio_input_number': 0, 'default_audio_stream_number': 1, 'audio_fps': 44100, 'audio_bitrate': 96, 'video_duration': 879.48, 'video_n_frames': 26358}\n",
      "/Users/MacBook/dev/TejaFiles/tenv/lib/python3.11/site-packages/imageio_ffmpeg/binaries/ffmpeg-macos-aarch64-v7.1 -i /Users/MacBook/dev/TejaFiles/videoplayback.mp4 -loglevel error -f image2pipe -vf scale=640:320 -sws_flags bicubic -pix_fmt rgb24 -vcodec rawvideo -\n"
     ]
    }
   ],
   "source": [
    "#Loading video\n",
    "clip = VideoFileClip(video_path)\n",
    "fps = clip.fps\n",
    "duration = clip.duration\n",
    "framecount = int(fps* duration)\n"
   ]
  },
  {
   "cell_type": "code",
   "execution_count": 20,
   "metadata": {},
   "outputs": [
    {
     "name": "stderr",
     "output_type": "stream",
     "text": [
      "chunk:   1%|          | 111/19393 [00:29<1:26:10,  3.73it/s, now=None]"
     ]
    },
    {
     "name": "stdout",
     "output_type": "stream",
     "text": [
      "MoviePy - Writing audio in video_dataset/audio.wav\n"
     ]
    },
    {
     "name": "stderr",
     "output_type": "stream",
     "text": [
      "chunk:   1%|          | 111/19393 [00:32<1:33:20,  3.44it/s, now=None]"
     ]
    },
    {
     "name": "stdout",
     "output_type": "stream",
     "text": [
      "MoviePy - Done.\n"
     ]
    }
   ],
   "source": [
    "#Extract Audio\n",
    "audio_path = os.path.join(output_folder, \"audio.wav\")\n",
    "clip.audio.write_audiofile(audio_path)"
   ]
  },
  {
   "cell_type": "code",
   "execution_count": 22,
   "metadata": {},
   "outputs": [
    {
     "name": "stdout",
     "output_type": "stream",
     "text": [
      "Dataset created with 26358 frames, audio and metadata!\n"
     ]
    }
   ],
   "source": [
    "#Initialize OpenCV video capture object\n",
    "cap = cv2.VideoCapture(video_path)\n",
    "frame_list = []\n",
    "\n",
    "frame_id = 0\n",
    "while cap.isOpened():\n",
    "    success, frame = cap.read()\n",
    "    if not success:\n",
    "        break\n",
    "\n",
    "    #save frame as an 256x256 image \n",
    "    frame_filename = os.path.join(output_folder, f\"frame_{frame_id}.jpg\")\n",
    "    cv2.imwrite(frame_filename, frame)\n",
    "\n",
    "    #Store frame info\n",
    "    frame_list.append([\n",
    "        frame_id, frame_filename,\n",
    "        cap.get(cv2.CAP_PROP_POS_MSEC)\n",
    "    ])\n",
    "    frame_id += 1\n",
    "\n",
    "cap.release()\n",
    "\n",
    "#Create a dataset CSVfile\n",
    "\n",
    "df = pd.DataFrame(frame_list, columns= [\"frame_id\", \"image_path\", \"timestamp_ms\"])\n",
    "df.to_csv(os.path.join(output_folder, \"Video_dataset\"), index = False)\n",
    "\n",
    "print(f\"Dataset created with {framecount} frames, audio and metadata!\")"
   ]
  }
 ],
 "metadata": {
  "kernelspec": {
   "display_name": "tenv",
   "language": "python",
   "name": "python3"
  },
  "language_info": {
   "codemirror_mode": {
    "name": "ipython",
    "version": 3
   },
   "file_extension": ".py",
   "mimetype": "text/x-python",
   "name": "python",
   "nbconvert_exporter": "python",
   "pygments_lexer": "ipython3",
   "version": "3.11.11"
  }
 },
 "nbformat": 4,
 "nbformat_minor": 2
}
