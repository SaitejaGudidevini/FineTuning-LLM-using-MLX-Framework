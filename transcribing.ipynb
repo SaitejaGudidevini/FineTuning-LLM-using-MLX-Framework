{
 "cells": [
  {
   "cell_type": "code",
   "execution_count": 5,
   "metadata": {},
   "outputs": [
    {
     "name": "stdout",
     "output_type": "stream",
     "text": [
      "Requirement already satisfied: openai-whisper in /Users/MacBook/dev/TejaFiles/tenv/lib/python3.11/site-packages (20240930)\n",
      "\u001b[31mERROR: Could not find a version that satisfies the requirement ffmeg (from versions: none)\u001b[0m\u001b[31m\n",
      "\u001b[0m\u001b[31mERROR: No matching distribution found for ffmeg\u001b[0m\u001b[31m\n",
      "\u001b[0m"
     ]
    }
   ],
   "source": [
    "!pip install openai-whisper ffmeg"
   ]
  },
  {
   "cell_type": "code",
   "execution_count": 10,
   "metadata": {},
   "outputs": [
    {
     "name": "stderr",
     "output_type": "stream",
     "text": [
      "/Users/MacBook/dev/TejaFiles/tenv/lib/python3.11/site-packages/whisper/transcribe.py:126: UserWarning: FP16 is not supported on CPU; using FP32 instead\n",
      "  warnings.warn(\"FP16 is not supported on CPU; using FP32 instead\")\n"
     ]
    },
    {
     "name": "stdout",
     "output_type": "stream",
     "text": [
      "Timestamped transcription available\n"
     ]
    }
   ],
   "source": [
    "import whisper\n",
    "\n",
    "#load the whisper model\n",
    "model = whisper.load_model('small')\n",
    "\n",
    "#transcribe the audio file\n",
    "result = model.transcribe('/Users/MacBook/dev/TejaFiles/FineTuning-LLM-using-MLX-Framework/video_dataset/audio.wav', word_timestamps=True)\n",
    "\n",
    "#Print the transcription with timestamps\n",
    "with open (\"timestamp_transcription.txt\", 'w') as f:\n",
    "    for segment in result['segments']:\n",
    "        start_time = segment['start']\n",
    "        end_time = segment['end']\n",
    "        text = segment['text']\n",
    "\n",
    "        f.write(f\"[{start_time: .2f} - {end_time: .2f}] {text}\\n\")\n",
    "\n",
    "print(\"Timestamped transcription available\")\n"
   ]
  }
 ],
 "metadata": {
  "kernelspec": {
   "display_name": "tenv",
   "language": "python",
   "name": "python3"
  },
  "language_info": {
   "codemirror_mode": {
    "name": "ipython",
    "version": 3
   },
   "file_extension": ".py",
   "mimetype": "text/x-python",
   "name": "python",
   "nbconvert_exporter": "python",
   "pygments_lexer": "ipython3",
   "version": "3.11.11"
  }
 },
 "nbformat": 4,
 "nbformat_minor": 2
}
